{
 "cells": [
  {
   "cell_type": "markdown",
   "metadata": {},
   "source": [
    "# NSE control setup with pyMOR"
   ]
  },
  {
   "cell_type": "code",
   "execution_count": null,
   "metadata": {},
   "outputs": [],
   "source": [
    "from data_utils import (solve_steadystate_nse, get_stokes_solution, linearized_convection, \n",
    "                        writevp_paraview, collect_vtu_files, eva_quadterm)\n",
    "\n",
    "import numpy as np\n",
    "import os\n",
    "import pickle\n",
    "import scipy\n",
    "import scipy.io as spio\n",
    "import scipy.linalg as spla\n",
    "import scipy.sparse as sps\n",
    "import scipy.sparse.linalg as spsla"
   ]
  },
  {
   "cell_type": "markdown",
   "metadata": {},
   "source": [
    " ### Setup Parameters"
   ]
  },
  {
   "cell_type": "code",
   "execution_count": null,
   "metadata": {},
   "outputs": [],
   "source": [
    "Re = 110          # Reynolds number\n",
    "control = 'bc'    # 'dist' for distributed control, 'bc' for control via boundary conditions or None\n",
    "level = 2         # discretization level (1, 2 or 3)\n",
    "palpha = 1e-3     # penalty for Robin-boundary (only in control == 'bc' case)\n",
    "\n",
    "# some strings for data storage\n",
    "data_str = 'data/' + 'lvl_' + str(level) + ('_' + control if control is not None else '')\n",
    "setup_str = data_str + '/re_' + str(Re) + ('_palpha_' + str(palpha) if control=='bc' else '')\n",
    "\n",
    "if not os.path.exists(setup_str):\n",
    "    os.makedirs(setup_str)"
   ]
  },
  {
   "cell_type": "code",
   "execution_count": null,
   "metadata": {},
   "outputs": [],
   "source": [
    "mats = spio.loadmat(data_str + '/mats')\n",
    "\n",
    "M = mats['M']\n",
    "J = mats['J']\n",
    "hmat = mats['H']\n",
    "fv = mats['fv'] + 1./Re*mats['fv_diff'] + mats['fv_conv']\n",
    "fp = mats['fp'] + mats['fp_div']\n",
    "pcmat = mats['Cp']\n",
    "vcmat = mats['Cv']\n",
    "NV, NP = fv.shape[0], fp.shape[0]\n",
    "\n",
    "if control == 'bc':\n",
    "    A = 1./Re*mats['A'] + mats['L1'] + mats['L2'] + 1./palpha*mats['Arob']\n",
    "    B = 1./palpha*mats['Brob']\n",
    "else:\n",
    "    A = 1./Re*mats['A'] + mats['L1'] + mats['L2']\n",
    "    B = mats['B']\n",
    "    # restrict to less dofs in the input\n",
    "    NU = B.shape[1]\n",
    "    B  = B[:, [0, NU//2]]"
   ]
  },
  {
   "cell_type": "markdown",
   "metadata": {},
   "source": [
    "### Steady-state NSE solution and linearized convection"
   ]
  },
  {
   "cell_type": "code",
   "execution_count": null,
   "metadata": {},
   "outputs": [],
   "source": [
    "if not os.path.isfile(setup_str + '/ss_nse_sol'):\n",
    "    # compute steady-state nse solution as linearization point\n",
    "    ss_nse_v, _ = solve_steadystate_nse(mats, Re, control, palpha=palpha)\n",
    "    \n",
    "    # compute linearized convection\n",
    "    conv_mat = linearized_convection(mats['H'], ss_nse_v)\n",
    "\n",
    "    scipy.io.savemat(setup_str + '/ss_nse_sol', {'ss_nse_v': ss_nse_v, 'conv_mat': conv_mat})\n",
    "\n",
    "else:\n",
    "    ss_nse_sol = scipy.io.loadmat(setup_str + '/ss_nse_sol')\n",
    "    ss_nse_v, conv_mat = ss_nse_sol['ss_nse_v'], ss_nse_sol['conv_mat']"
   ]
  },
  {
   "cell_type": "markdown",
   "metadata": {},
   "source": [
    "### Reduce linearization with pyMOR"
   ]
  },
  {
   "cell_type": "code",
   "execution_count": null,
   "metadata": {},
   "outputs": [],
   "source": [
    "from pymor.models.iosys import StokesDescriptorModel\n",
    "from pymor.reductors.h2 import GapIRKAReductor\n",
    "from pymor.reductors.bt import LQGBTReductor\n",
    "from pymor.operators.numpy import NumpyMatrixOperator\n",
    "from pymor.algorithms.to_matrix import to_matrix\n",
    "\n",
    "# MOR setup\n",
    "method = 'GapIRKA'\n",
    "rom_ord = 10\n",
    "tol = 1e-2\n",
    "\n",
    "rom_str = setup_str + '/roms/' + method + '_' + str(rom_ord) + '_' + str(tol)\n",
    "\n",
    "if control == 'bc':\n",
    "    Aop = NumpyMatrixOperator(-1./Re * mats['A'] - 1./palpha*mats['Arob'] - conv_mat)\n",
    "else:\n",
    "    Aop = NumpyMatrixOperator(-1./Re * mats['A'] - conv_mat)\n",
    "\n",
    "Eop = NumpyMatrixOperator(M)\n",
    "Gop = NumpyMatrixOperator(J.T)\n",
    "Bop = NumpyMatrixOperator(B)\n",
    "Cop = NumpyMatrixOperator(vcmat)\n",
    "fom = StokesDescriptorModel(Aop, Gop, Bop, Cop, None, Eop)\n",
    "\n",
    "if control is not None:\n",
    "    if not os.path.isfile(rom_str):\n",
    "        if not os.path.exists(setup_str + '/roms'):\n",
    "            os.makedirs(setup_str + '/roms')\n",
    "\n",
    "        if method == 'GapIRKA':\n",
    "            reductor = GapIRKAReductor(fom)\n",
    "            rom = reductor.reduce(rom_ord, tol=tol, conv_crit='sigma', projection='Eorth')\n",
    "        else:\n",
    "            reductor = LQGBTReductor(fom)\n",
    "            rom = reductor.reduce(rom_ord, projection='biorth')\n",
    "\n",
    "        with open(rom_str, 'wb') as rom_file:\n",
    "            pickle.dump({'reductor': reductor, 'rom': rom}, rom_file)\n",
    "\n",
    "    else:\n",
    "        with open(rom_str, 'rb') as rom_file: \n",
    "            rom_dict = pickle.load(rom_file)\n",
    "\n",
    "        rom = rom_dict['rom']\n",
    "        reductor = rom_dict['reductor']"
   ]
  },
  {
   "cell_type": "markdown",
   "metadata": {},
   "source": [
    "### Simulation parameters"
   ]
  },
  {
   "cell_type": "code",
   "execution_count": null,
   "metadata": {},
   "outputs": [],
   "source": [
    "# parameters for time-stepping\n",
    "t0 = 0.\n",
    "tE = 8.\n",
    "Nts = 2**12\n",
    "DT = (tE-t0)/Nts\n",
    "trange = np.linspace(t0, tE, Nts+1)\n",
    "\n",
    "# files for results and visualization\n",
    "if not os.path.exists(setup_str + '/results'):\n",
    "    os.makedirs(setup_str + '/results')\n",
    "\n",
    "poutlist = []\n",
    "voutlist = []\n",
    "vfile = lambda t : setup_str + '/results/v_t{0}.vtu'.format(t)\n",
    "pfile = lambda t : setup_str + '/results/p_t{0}.vtu'.format(t)\n",
    "vfilerel = lambda t : 'results/v_t{0}.vtu'.format(t)\n",
    "pfilerel = lambda t : 'results/p_t{0}.vtu'.format(t)\n",
    "vfilelist = []\n",
    "pfilelist = []\n",
    "strtojson = data_str + '/visualization.jsn'"
   ]
  },
  {
   "cell_type": "markdown",
   "metadata": {},
   "source": [
    "### Define Control"
   ]
  },
  {
   "cell_type": "code",
   "execution_count": null,
   "metadata": {},
   "outputs": [],
   "source": [
    "if control is None:\n",
    "    def bbcu(ko_state):\n",
    "        return np.zeros((NV, 1))\n",
    "    \n",
    "    def update_ko_state(ko_state, Cv, DT):\n",
    "        return ko_state\n",
    "\n",
    "else:\n",
    "    Arom = to_matrix(rom.A, format='dense').real\n",
    "    Brom = to_matrix(rom.B, format='dense').real\n",
    "    Crom = to_matrix(rom.C, format='dense').real\n",
    "\n",
    "    XCARE = spla.solve_continuous_are(Arom, Brom, Crom.T @ Crom, np.eye(Brom.shape[1]), balanced=False)\n",
    "    XFARE = spla.solve_continuous_are(Arom.T, Crom.T, Brom @ Brom.T, np.eye(Crom.shape[0]), balanced=False)\n",
    "\n",
    "    # define control based on Kalman observer state\n",
    "    def bbcu(ko_state):\n",
    "        uvec = -Brom.T @ XCARE @ ko_state\n",
    "        return B @ uvec\n",
    "\n",
    "    ko1_mat = Arom - XFARE @ Crom.T @ Crom - Brom @ Brom.T @ XCARE\n",
    "    ko2_mat = XFARE @ Crom.T\n",
    "    lu_piv = spla.lu_factor(np.eye(rom_ord) - DT * ko1_mat)\n",
    "\n",
    "    Css = vcmat @ ss_nse_v\n",
    "\n",
    "    # function that determines the next state of the Kalman observer via implicit euler step\n",
    "    def update_ko_state(ko_state, Cv, DT):\n",
    "        return spla.lu_solve(lu_piv, ko_state + DT * ko2_mat @ (Cv - Css))"
   ]
  },
  {
   "cell_type": "markdown",
   "metadata": {},
   "source": [
    "### Time stepping"
   ]
  },
  {
   "cell_type": "code",
   "execution_count": null,
   "metadata": {},
   "outputs": [],
   "source": [
    "# introduce small perturbation to steady-state solution as initial value\n",
    "pert = fom.A.source.project_onto_subspace(fom.A.operator.source.ones(), trans=True).to_numpy().T\n",
    "old_v = ss_nse_v + 1e-3 * pert\n",
    "\n",
    "# initialize state for observer\n",
    "ko_state = np.zeros((rom_ord, 1))\n",
    "\n",
    "sysmat = sps.vstack([\n",
    "             sps.hstack([M+DT*A, -J.T]), \n",
    "             sps.hstack([J, sps.csc_matrix((NP, NP))])\n",
    "         ]).tocsc()\n",
    "sysmati = spsla.factorized(sysmat)\n",
    "\n",
    "for k, t in enumerate(trange):\n",
    "    crhsv = M*old_v + DT*(fv - eva_quadterm(hmat, old_v) + bbcu(ko_state))\n",
    "    crhs = np.vstack([crhsv, fp])\n",
    "    vp_new = np.atleast_2d(sysmati(crhs.flatten())).T\n",
    "    old_v = vp_new[:NV]\n",
    "    p = vp_new[NV:]\n",
    "    Cv = vcmat @ old_v\n",
    "\n",
    "    poutlist.append((pcmat*p)[0][0])\n",
    "    voutlist.append((Cv).flatten())\n",
    "    \n",
    "    ko_state = update_ko_state(ko_state, Cv, DT)\n",
    "    if np.mod(k, round(Nts/64)) == 0:\n",
    "        print('timestep {0:4d}/{1}, t={2:f}, |v|={3:e}'.format(k, Nts, t, np.linalg.norm(old_v)))\n",
    "        writevp_paraview(velvec=old_v, pvec=p, vfile=vfile(t), pfile=pfile(t), strtojson=strtojson)\n",
    "        vfilelist.append(vfilerel(t))\n",
    "        pfilelist.append(pfilerel(t))"
   ]
  },
  {
   "cell_type": "markdown",
   "metadata": {},
   "source": [
    "### For visualization run 'paraview v_results.pvd'"
   ]
  },
  {
   "cell_type": "code",
   "execution_count": null,
   "metadata": {},
   "outputs": [],
   "source": [
    "# create the *_results.pvd files based on the .vtu files from the time stepping\n",
    "collect_vtu_files(vfilelist, setup_str + '/v_results.pvd')\n",
    "collect_vtu_files(pfilelist, setup_str + '/p_results.pvd')"
   ]
  },
  {
   "cell_type": "code",
   "execution_count": null,
   "metadata": {},
   "outputs": [],
   "source": []
  }
 ],
 "metadata": {
  "kernelspec": {
   "display_name": "mypymor",
   "language": "python",
   "name": "mypymor"
  },
  "language_info": {
   "codemirror_mode": {
    "name": "ipython",
    "version": 3
   },
   "file_extension": ".py",
   "mimetype": "text/x-python",
   "name": "python",
   "nbconvert_exporter": "python",
   "pygments_lexer": "ipython3",
   "version": "3.6.9"
  }
 },
 "nbformat": 4,
 "nbformat_minor": 2
}
